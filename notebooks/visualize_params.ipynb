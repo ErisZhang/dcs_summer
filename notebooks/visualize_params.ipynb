{
 "cells": [
  {
   "cell_type": "code",
   "execution_count": 1,
   "metadata": {},
   "outputs": [],
   "source": [
    "% algorithm 2.1: 2 level naive Monte Carlo integration\n",
    "naive_MC_dirs = genpath('../fullcredit/RecreatingBinaryCreditProblem/TwoLvlMC_Y');\n",
    "% algorithm 2.2: 2 level naive Monte Carlo integration with Bernoulli indicator sampling\n",
    "bernoulli_MC_dirs = genpath('../fullcredit/RecreatingBinaryCreditProblem/TwoLvlMC');\n",
    "\n",
    "% add to path \n",
    "addpath(naive_MC_dirs)\n",
    "% addpath(bernoulli_MC_dirs)"
   ]
  },
  {
   "cell_type": "code",
   "execution_count": 2,
   "metadata": {},
   "outputs": [],
   "source": [
    "% parameters \n",
    "clear all;\n",
    "N       = 2500;     % Number of creditors\n",
    "NZ      = 10000;      % Number of samples from MC\n",
    "nE      = 2;      % Number of epsilion samples to take PER z sample\n",
    "S       = 10;       % Dimension of Z\n",
    "NRuns   = 10;       % Number of times to recompute integral before averaging results"
   ]
  },
  {
   "cell_type": "code",
   "execution_count": 7,
   "metadata": {},
   "outputs": [
    {
     "name": "stdout",
     "output_type": "stream",
     "text": [
      "\n",
      "fullcreditdir =\n",
      "\n",
      "    '/Users/mark.wang/github/dcs_summer/fullcredit'\n",
      "\n",
      "\n",
      "naive_MC =\n",
      "\n",
      "    '/Users/mark.wang/github/dcs_summer/fullcredit/RecreatingBinaryCreditProblem/TwoLvlMC_Y'\n",
      "\n"
     ]
    }
   ],
   "source": [
    "% path resolution\n",
    "fullcreditdir = fullfile(fileparts(pwd), 'fullcredit')\n",
    "naive_MC_dir = fullfile(fullcreditdir, 'RecreatingBinaryCreditProblem', 'TwoLvlMC_Y')"
   ]
  },
  {
   "cell_type": "code",
   "execution_count": null,
   "metadata": {},
   "outputs": [],
   "source": [
    "cd naive_MC_dir"
   ]
  }
 ],
 "metadata": {
  "kernelspec": {
   "display_name": "Matlab",
   "language": "matlab",
   "name": "matlab"
  },
  "language_info": {
   "codemirror_mode": "octave",
   "file_extension": ".m",
   "help_links": [
    {
     "text": "MetaKernel Magics",
     "url": "https://github.com/calysto/metakernel/blob/master/metakernel/magics/README.md"
    }
   ],
   "mimetype": "text/x-octave",
   "name": "matlab",
   "version": "0.15.0"
  }
 },
 "nbformat": 4,
 "nbformat_minor": 2
}
