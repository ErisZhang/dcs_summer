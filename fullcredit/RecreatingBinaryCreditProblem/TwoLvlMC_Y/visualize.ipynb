{
 "cells": [
  {
   "cell_type": "code",
   "execution_count": 1,
   "metadata": {},
   "outputs": [],
   "source": [
    "clear all;\n",
    "N       = 2500;     % Number of creditors\n",
    "NZ      = 40000;    % Number of samples from MC\n",
    "nE      = 2;        % Number of epsilion samples to take PER z sample\n",
    "S       = 10;       % Dimension of Z\n",
    "NRuns   = 5;        % Number of times to recompute integral before averaging results"
   ]
  },
  {
   "cell_type": "code",
   "execution_count": null,
   "metadata": {},
   "outputs": [],
   "source": [
    "[H, BETA, tail, EAD, CN, LGC, CMM, C] = ProblemParams(N, S, true);  %Initialize data"
   ]
  },
  {
   "cell_type": "code",
   "execution_count": 29,
   "metadata": {},
   "outputs": [
    {
     "name": "stdout",
     "output_type": "stream",
     "text": [
      "H    (2500     4)  represents threshold for each of n creditors to migrate from c(n) -> c,\n",
      "BETA (2500    10)  each row represents n-th creditors sensitivity to the systematic risk factor Z\n",
      "tail (1  1)        tail quantile, i.e. P(L > l)\n",
      "EAD  (2500     1)  exposure at default for each creditor\n",
      "CN   (2500     1)  initial credit state for each creditor\n",
      "LGC  (2500     4)  percentage gain/loss when creditor n moves to state c\n",
      "CMM  (2500     4)  credit state matrix, probability of n-th creditor move to credit state c (high ->2 ; low ->1)\n",
      "C .  (1  1)        number of credit states\n"
     ]
    }
   ],
   "source": [
    "disp(strcat('H    (', num2str(size(H)),    ')  represents threshold for each of n creditors to migrate from c(n) -> c, '))\n",
    "disp(strcat('BETA (', num2str(size(BETA)), ')  each row represents n-th creditors sensitivity to the systematic risk factor Z'))\n",
    "disp(strcat('tail (', num2str(size(tail)), ')        tail quantile, i.e. P(L > l)'))\n",
    "disp(strcat('EAD  (', num2str(size(EAD)),  ')  exposure at default for each creditor'))\n",
    "disp(strcat('CN   (', num2str(size(CN)),   ')  initial credit state for each creditor'))\n",
    "disp(strcat('LGC  (', num2str(size(LGC)),  ')  percentage gain/loss when creditor n moves to state c'))\n",
    "disp(strcat('CMM  (', num2str(size(CMM)),  ')  credit state matrix, probability of n-th creditor move to credit state c (high ->2 ; low ->1)'))\n",
    "disp(strcat('C    (', num2str(size(C)),    ')        number of credit states'))"
   ]
  },
  {
   "cell_type": "code",
   "execution_count": 1,
   "metadata": {},
   "outputs": [
    {
     "name": "stderr",
     "output_type": "stream",
     "text": [
      "\u001b[0;31mError using eval\n",
      "Undefined function or variable 'H'.\n",
      "\n",
      "\u001b[0m"
     ]
    }
   ],
   "source": [
    "shape(H)"
   ]
  },
  {
   "cell_type": "code",
   "execution_count": null,
   "metadata": {},
   "outputs": [],
   "source": []
  },
  {
   "cell_type": "code",
   "execution_count": null,
   "metadata": {},
   "outputs": [],
   "source": []
  },
  {
   "cell_type": "code",
   "execution_count": null,
   "metadata": {},
   "outputs": [],
   "source": []
  }
 ],
 "metadata": {
  "kernelspec": {
   "display_name": "Matlab",
   "language": "matlab",
   "name": "matlab"
  },
  "language_info": {
   "codemirror_mode": "octave",
   "file_extension": ".m",
   "help_links": [
    {
     "text": "MetaKernel Magics",
     "url": "https://github.com/calysto/metakernel/blob/master/metakernel/magics/README.md"
    }
   ],
   "mimetype": "text/x-octave",
   "name": "matlab",
   "version": "0.15.0"
  }
 },
 "nbformat": 4,
 "nbformat_minor": 2
}
